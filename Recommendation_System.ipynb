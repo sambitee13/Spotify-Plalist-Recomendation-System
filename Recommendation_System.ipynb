{
 "cells": [
  {
   "cell_type": "code",
   "execution_count": 1,
   "id": "6942d4fc",
   "metadata": {},
   "outputs": [],
   "source": [
    "import spotipy\n",
    "from spotipy.oauth2 import SpotifyClientCredentials\n",
    "import spotipy.util as util"
   ]
  },
  {
   "cell_type": "code",
   "execution_count": 2,
   "id": "4bfee005",
   "metadata": {},
   "outputs": [],
   "source": [
    "cid = \"4fd28cf130c740b79f847195351fd7ed\"\n",
    "secret = \"d97eaad9ff484e0f985c2f142e8b0701\"\n",
    "username = 'jwxkomefm2s1eqdqmztzrrral'\n",
    "redirect_uri = \"http://localhost:9000/callback\""
   ]
  },
  {
   "cell_type": "code",
   "execution_count": 3,
   "id": "3bdc7e37",
   "metadata": {},
   "outputs": [],
   "source": [
    "scope = 'user-library-read playlist-modify-public playlist-read-private'\n",
    "\n",
    "client_credentials_manager = SpotifyClientCredentials(client_id = cid, client_secret=secret)\n",
    "\n",
    "sp = spotipy.Spotify(client_credentials_manager= client_credentials_manager)\n",
    "\n",
    "token = util.prompt_for_user_token(username,scope,cid,secret,redirect_uri)\n",
    "\n",
    "if token:\n",
    "  sp = spotipy.Spotify(auth=token)\n",
    "  \n",
    "else:\n",
    "  print(\"Can't get token for\", username)"
   ]
  },
  {
   "cell_type": "code",
   "execution_count": 4,
   "id": "c3151080",
   "metadata": {},
   "outputs": [],
   "source": [
    "import pandas as pd\n",
    "\n",
    "# https://open.spotify.com/playlist/4zCk03i7meyK5r0UgWx1iW?si=ab4029ffb799493b\n",
    "sourcePlaylistID = \"4zCk03i7meyK5r0UgWx1iW\"\n",
    "sourcePlaylist = sp.user_playlist(username,sourcePlaylistID);\n",
    "tracks = sourcePlaylist[\"tracks\"];\n",
    "songs = tracks[\"items\"];\n",
    "\n",
    "track_ids = []\n",
    "track_names = []\n",
    "\n",
    "\n",
    "for i in range(0, len(songs)):\n",
    "  if songs[i]['track']['id']!=None:\n",
    "    track_ids.append(songs[i]['track']['id'])\n",
    "    track_names.append(songs[i]['track']['name'])\n",
    "    \n",
    "features = []\n",
    "\n",
    "\n",
    "for i in range(0,len(track_ids)):\n",
    "  audio_features  = sp.audio_features(track_ids[i])\n",
    "  for track in audio_features:\n",
    "    features.append(track)\n",
    "    \n",
    "    \n",
    "playlist_df = pd.DataFrame(features,index = track_names)\n"
   ]
  },
  {
   "cell_type": "code",
   "execution_count": 5,
   "id": "95e34110",
   "metadata": {},
   "outputs": [],
   "source": [
    "playlist_df = playlist_df[[\"id\", \"acousticness\", \"danceability\", \"duration_ms\", \"energy\", \"instrumentalness\",  \"key\", \"liveness\", \"loudness\", \"mode\", \"speechiness\", \"tempo\", \"valence\"]]\n"
   ]
  },
  {
   "cell_type": "code",
   "execution_count": 6,
   "id": "b187b18d",
   "metadata": {},
   "outputs": [
    {
     "data": {
      "text/plain": [
       "(10, 13)"
      ]
     },
     "execution_count": 6,
     "metadata": {},
     "output_type": "execute_result"
    }
   ],
   "source": [
    "playlist_df.shape\n"
   ]
  },
  {
   "cell_type": "code",
   "execution_count": 7,
   "id": "fcac2eac",
   "metadata": {},
   "outputs": [],
   "source": [
    "playlist_df['ratings']=[10, 9, 9, 10, 8, 6, 8, 4, 3, 5]\n"
   ]
  },
  {
   "cell_type": "code",
   "execution_count": 8,
   "id": "f6503202",
   "metadata": {},
   "outputs": [
    {
     "data": {
      "text/html": [
       "<div>\n",
       "<style scoped>\n",
       "    .dataframe tbody tr th:only-of-type {\n",
       "        vertical-align: middle;\n",
       "    }\n",
       "\n",
       "    .dataframe tbody tr th {\n",
       "        vertical-align: top;\n",
       "    }\n",
       "\n",
       "    .dataframe thead th {\n",
       "        text-align: right;\n",
       "    }\n",
       "</style>\n",
       "<table border=\"1\" class=\"dataframe\">\n",
       "  <thead>\n",
       "    <tr style=\"text-align: right;\">\n",
       "      <th></th>\n",
       "      <th>id</th>\n",
       "      <th>acousticness</th>\n",
       "      <th>danceability</th>\n",
       "      <th>duration_ms</th>\n",
       "      <th>energy</th>\n",
       "      <th>instrumentalness</th>\n",
       "      <th>key</th>\n",
       "      <th>liveness</th>\n",
       "      <th>loudness</th>\n",
       "      <th>mode</th>\n",
       "      <th>speechiness</th>\n",
       "      <th>tempo</th>\n",
       "      <th>valence</th>\n",
       "      <th>ratings</th>\n",
       "    </tr>\n",
       "  </thead>\n",
       "  <tbody>\n",
       "    <tr>\n",
       "      <th>champagne problems</th>\n",
       "      <td>0sY6ZUTh4yoctD8VIXz339</td>\n",
       "      <td>0.920</td>\n",
       "      <td>0.462</td>\n",
       "      <td>244000</td>\n",
       "      <td>0.240</td>\n",
       "      <td>0.000000</td>\n",
       "      <td>0</td>\n",
       "      <td>0.1130</td>\n",
       "      <td>-12.077</td>\n",
       "      <td>1</td>\n",
       "      <td>0.0377</td>\n",
       "      <td>171.319</td>\n",
       "      <td>0.3200</td>\n",
       "      <td>10</td>\n",
       "    </tr>\n",
       "    <tr>\n",
       "      <th>hoax</th>\n",
       "      <td>6MWoRt97mnSTXZhu3ggi9C</td>\n",
       "      <td>0.966</td>\n",
       "      <td>0.662</td>\n",
       "      <td>220043</td>\n",
       "      <td>0.181</td>\n",
       "      <td>0.000004</td>\n",
       "      <td>8</td>\n",
       "      <td>0.1330</td>\n",
       "      <td>-15.065</td>\n",
       "      <td>1</td>\n",
       "      <td>0.0415</td>\n",
       "      <td>118.819</td>\n",
       "      <td>0.4290</td>\n",
       "      <td>9</td>\n",
       "    </tr>\n",
       "    <tr>\n",
       "      <th>Everything Has Changed (feat. Ed Sheeran) (Taylor’s Version)</th>\n",
       "      <td>7qEUFOVcxRI19tbT68JcYK</td>\n",
       "      <td>0.271</td>\n",
       "      <td>0.498</td>\n",
       "      <td>245427</td>\n",
       "      <td>0.610</td>\n",
       "      <td>0.000000</td>\n",
       "      <td>6</td>\n",
       "      <td>0.2230</td>\n",
       "      <td>-5.098</td>\n",
       "      <td>1</td>\n",
       "      <td>0.0363</td>\n",
       "      <td>79.918</td>\n",
       "      <td>0.4740</td>\n",
       "      <td>9</td>\n",
       "    </tr>\n",
       "    <tr>\n",
       "      <th>Nothing's Gonna Hurt You Baby</th>\n",
       "      <td>3GhsBdS9ulPK3KCdwHRPhG</td>\n",
       "      <td>0.272</td>\n",
       "      <td>0.509</td>\n",
       "      <td>286293</td>\n",
       "      <td>0.331</td>\n",
       "      <td>0.136000</td>\n",
       "      <td>4</td>\n",
       "      <td>0.1140</td>\n",
       "      <td>-14.083</td>\n",
       "      <td>1</td>\n",
       "      <td>0.0267</td>\n",
       "      <td>96.848</td>\n",
       "      <td>0.0957</td>\n",
       "      <td>10</td>\n",
       "    </tr>\n",
       "    <tr>\n",
       "      <th>Be My Mistake</th>\n",
       "      <td>18UsAG7SfOQ5sxJEdjAMH0</td>\n",
       "      <td>0.835</td>\n",
       "      <td>0.572</td>\n",
       "      <td>256689</td>\n",
       "      <td>0.155</td>\n",
       "      <td>0.000137</td>\n",
       "      <td>6</td>\n",
       "      <td>0.0906</td>\n",
       "      <td>-14.405</td>\n",
       "      <td>1</td>\n",
       "      <td>0.0344</td>\n",
       "      <td>109.923</td>\n",
       "      <td>0.0949</td>\n",
       "      <td>8</td>\n",
       "    </tr>\n",
       "    <tr>\n",
       "      <th>Fallingforyou</th>\n",
       "      <td>2TgxCUZdHFkPEVmFge1OSd</td>\n",
       "      <td>0.892</td>\n",
       "      <td>0.264</td>\n",
       "      <td>240671</td>\n",
       "      <td>0.285</td>\n",
       "      <td>0.000471</td>\n",
       "      <td>1</td>\n",
       "      <td>0.3440</td>\n",
       "      <td>-15.208</td>\n",
       "      <td>1</td>\n",
       "      <td>0.0385</td>\n",
       "      <td>84.825</td>\n",
       "      <td>0.0776</td>\n",
       "      <td>6</td>\n",
       "    </tr>\n",
       "    <tr>\n",
       "      <th>Like Real People Do</th>\n",
       "      <td>57V4uc2b2diZ4RPHXWecb9</td>\n",
       "      <td>0.921</td>\n",
       "      <td>0.539</td>\n",
       "      <td>198027</td>\n",
       "      <td>0.179</td>\n",
       "      <td>0.393000</td>\n",
       "      <td>7</td>\n",
       "      <td>0.1060</td>\n",
       "      <td>-14.330</td>\n",
       "      <td>1</td>\n",
       "      <td>0.0309</td>\n",
       "      <td>140.010</td>\n",
       "      <td>0.1450</td>\n",
       "      <td>8</td>\n",
       "    </tr>\n",
       "    <tr>\n",
       "      <th>cardigan</th>\n",
       "      <td>4R2kfaDFhslZEMJqAFNpdd</td>\n",
       "      <td>0.537</td>\n",
       "      <td>0.613</td>\n",
       "      <td>239560</td>\n",
       "      <td>0.581</td>\n",
       "      <td>0.000345</td>\n",
       "      <td>0</td>\n",
       "      <td>0.2500</td>\n",
       "      <td>-8.588</td>\n",
       "      <td>0</td>\n",
       "      <td>0.0424</td>\n",
       "      <td>130.033</td>\n",
       "      <td>0.5510</td>\n",
       "      <td>4</td>\n",
       "    </tr>\n",
       "    <tr>\n",
       "      <th>enough for you</th>\n",
       "      <td>2TOzTqQXNmR2zDJXihjZ2e</td>\n",
       "      <td>0.753</td>\n",
       "      <td>0.638</td>\n",
       "      <td>202827</td>\n",
       "      <td>0.259</td>\n",
       "      <td>0.000000</td>\n",
       "      <td>7</td>\n",
       "      <td>0.2190</td>\n",
       "      <td>-10.706</td>\n",
       "      <td>1</td>\n",
       "      <td>0.0898</td>\n",
       "      <td>88.485</td>\n",
       "      <td>0.2690</td>\n",
       "      <td>3</td>\n",
       "    </tr>\n",
       "    <tr>\n",
       "      <th>Heather</th>\n",
       "      <td>4xqrdfXkTW4T0RauPLv3WA</td>\n",
       "      <td>0.584</td>\n",
       "      <td>0.357</td>\n",
       "      <td>198040</td>\n",
       "      <td>0.425</td>\n",
       "      <td>0.000000</td>\n",
       "      <td>5</td>\n",
       "      <td>0.3220</td>\n",
       "      <td>-7.301</td>\n",
       "      <td>1</td>\n",
       "      <td>0.0333</td>\n",
       "      <td>102.078</td>\n",
       "      <td>0.2700</td>\n",
       "      <td>5</td>\n",
       "    </tr>\n",
       "  </tbody>\n",
       "</table>\n",
       "</div>"
      ],
      "text/plain": [
       "                                                                        id  \\\n",
       "champagne problems                                  0sY6ZUTh4yoctD8VIXz339   \n",
       "hoax                                                6MWoRt97mnSTXZhu3ggi9C   \n",
       "Everything Has Changed (feat. Ed Sheeran) (Tayl...  7qEUFOVcxRI19tbT68JcYK   \n",
       "Nothing's Gonna Hurt You Baby                       3GhsBdS9ulPK3KCdwHRPhG   \n",
       "Be My Mistake                                       18UsAG7SfOQ5sxJEdjAMH0   \n",
       "Fallingforyou                                       2TgxCUZdHFkPEVmFge1OSd   \n",
       "Like Real People Do                                 57V4uc2b2diZ4RPHXWecb9   \n",
       "cardigan                                            4R2kfaDFhslZEMJqAFNpdd   \n",
       "enough for you                                      2TOzTqQXNmR2zDJXihjZ2e   \n",
       "Heather                                             4xqrdfXkTW4T0RauPLv3WA   \n",
       "\n",
       "                                                    acousticness  \\\n",
       "champagne problems                                         0.920   \n",
       "hoax                                                       0.966   \n",
       "Everything Has Changed (feat. Ed Sheeran) (Tayl...         0.271   \n",
       "Nothing's Gonna Hurt You Baby                              0.272   \n",
       "Be My Mistake                                              0.835   \n",
       "Fallingforyou                                              0.892   \n",
       "Like Real People Do                                        0.921   \n",
       "cardigan                                                   0.537   \n",
       "enough for you                                             0.753   \n",
       "Heather                                                    0.584   \n",
       "\n",
       "                                                    danceability  duration_ms  \\\n",
       "champagne problems                                         0.462       244000   \n",
       "hoax                                                       0.662       220043   \n",
       "Everything Has Changed (feat. Ed Sheeran) (Tayl...         0.498       245427   \n",
       "Nothing's Gonna Hurt You Baby                              0.509       286293   \n",
       "Be My Mistake                                              0.572       256689   \n",
       "Fallingforyou                                              0.264       240671   \n",
       "Like Real People Do                                        0.539       198027   \n",
       "cardigan                                                   0.613       239560   \n",
       "enough for you                                             0.638       202827   \n",
       "Heather                                                    0.357       198040   \n",
       "\n",
       "                                                    energy  instrumentalness  \\\n",
       "champagne problems                                   0.240          0.000000   \n",
       "hoax                                                 0.181          0.000004   \n",
       "Everything Has Changed (feat. Ed Sheeran) (Tayl...   0.610          0.000000   \n",
       "Nothing's Gonna Hurt You Baby                        0.331          0.136000   \n",
       "Be My Mistake                                        0.155          0.000137   \n",
       "Fallingforyou                                        0.285          0.000471   \n",
       "Like Real People Do                                  0.179          0.393000   \n",
       "cardigan                                             0.581          0.000345   \n",
       "enough for you                                       0.259          0.000000   \n",
       "Heather                                              0.425          0.000000   \n",
       "\n",
       "                                                    key  liveness  loudness  \\\n",
       "champagne problems                                    0    0.1130   -12.077   \n",
       "hoax                                                  8    0.1330   -15.065   \n",
       "Everything Has Changed (feat. Ed Sheeran) (Tayl...    6    0.2230    -5.098   \n",
       "Nothing's Gonna Hurt You Baby                         4    0.1140   -14.083   \n",
       "Be My Mistake                                         6    0.0906   -14.405   \n",
       "Fallingforyou                                         1    0.3440   -15.208   \n",
       "Like Real People Do                                   7    0.1060   -14.330   \n",
       "cardigan                                              0    0.2500    -8.588   \n",
       "enough for you                                        7    0.2190   -10.706   \n",
       "Heather                                               5    0.3220    -7.301   \n",
       "\n",
       "                                                    mode  speechiness  \\\n",
       "champagne problems                                     1       0.0377   \n",
       "hoax                                                   1       0.0415   \n",
       "Everything Has Changed (feat. Ed Sheeran) (Tayl...     1       0.0363   \n",
       "Nothing's Gonna Hurt You Baby                          1       0.0267   \n",
       "Be My Mistake                                          1       0.0344   \n",
       "Fallingforyou                                          1       0.0385   \n",
       "Like Real People Do                                    1       0.0309   \n",
       "cardigan                                               0       0.0424   \n",
       "enough for you                                         1       0.0898   \n",
       "Heather                                                1       0.0333   \n",
       "\n",
       "                                                      tempo  valence  ratings  \n",
       "champagne problems                                  171.319   0.3200       10  \n",
       "hoax                                                118.819   0.4290        9  \n",
       "Everything Has Changed (feat. Ed Sheeran) (Tayl...   79.918   0.4740        9  \n",
       "Nothing's Gonna Hurt You Baby                        96.848   0.0957       10  \n",
       "Be My Mistake                                       109.923   0.0949        8  \n",
       "Fallingforyou                                        84.825   0.0776        6  \n",
       "Like Real People Do                                 140.010   0.1450        8  \n",
       "cardigan                                            130.033   0.5510        4  \n",
       "enough for you                                       88.485   0.2690        3  \n",
       "Heather                                             102.078   0.2700        5  "
      ]
     },
     "execution_count": 8,
     "metadata": {},
     "output_type": "execute_result"
    }
   ],
   "source": [
    "playlist_df"
   ]
  },
  {
   "cell_type": "code",
   "execution_count": 9,
   "id": "c751084e",
   "metadata": {},
   "outputs": [],
   "source": [
    "X_train = playlist_df.drop(['id', 'ratings'], axis=1)\n",
    "y_train = playlist_df['ratings']"
   ]
  },
  {
   "cell_type": "code",
   "execution_count": 10,
   "id": "596d7ea9",
   "metadata": {},
   "outputs": [
    {
     "data": {
      "image/png": "[encoded data removed]",
      "text/plain": [
       "<Figure size 1000x700 with 1 Axes>"
      ]
     },
     "metadata": {
      "image/png": {
       "height": 607,
       "width": 859
      }
     },
     "output_type": "display_data"
    }
   ],
   "source": [
    "import numpy as np\n",
    "from sklearn import decomposition\n",
    "from sklearn.preprocessing import StandardScaler\n",
    "import matplotlib.pyplot as plt\n",
    "import seaborn as sns; sns.set(style='white')\n",
    "%matplotlib inline\n",
    "%config InlineBackend.figure_format = 'retina'\n",
    "\n",
    "X_scaled = StandardScaler().fit_transform(X_train)\n",
    "\n",
    "pca = decomposition.PCA().fit(X_scaled)\n",
    "\n",
    "\n",
    "plt.figure(figsize=(10,7))\n",
    "plt.plot(np.cumsum(pca.explained_variance_ratio_),color='k',lw=2)\n",
    "plt.xlabel('Number of components')\n",
    "plt.ylabel('Total explained variance')\n",
    "plt.xlim(0,12)\n",
    "plt.yticks(np.arange(0,1.1,0.1))\n",
    "plt.axvline(8,c='b')\n",
    "plt.axhline(0.95,c='r')\n",
    "plt.show();"
   ]
  },
  {
   "cell_type": "code",
   "execution_count": 11,
   "id": "f93a6a99",
   "metadata": {},
   "outputs": [],
   "source": [
    "# Fit your dataset to the optimal pca\n",
    "pca = decomposition.PCA(n_components=8)\n",
    "X_pca = pca.fit_transform(X_scaled)"
   ]
  },
  {
   "cell_type": "code",
   "execution_count": 12,
   "id": "a612fffb",
   "metadata": {},
   "outputs": [
    {
     "data": {
      "text/plain": [
       "(10, 76)"
      ]
     },
     "execution_count": 12,
     "metadata": {},
     "output_type": "execute_result"
    }
   ],
   "source": [
    "from sklearn.feature_extraction.text import TfidfVectorizer\n",
    "v = TfidfVectorizer(sublinear_tf = True, ngram_range=(1,6),\n",
    "                   max_features=10000)\n",
    "X_names_sparse=v.fit_transform(track_names)\n",
    "X_names_sparse.shape"
   ]
  },
  {
   "cell_type": "code",
   "execution_count": 13,
   "id": "5f2b4d91",
   "metadata": {},
   "outputs": [],
   "source": [
    "from scipy.sparse import csr_matrix, hstack\n",
    "\n",
    "X_train_last = csr_matrix(hstack([X_pca, X_names_sparse]))"
   ]
  },
  {
   "cell_type": "code",
   "execution_count": 14,
   "id": "ea699e91",
   "metadata": {},
   "outputs": [],
   "source": [
    "from sklearn.model_selection import StratifiedKFold, GridSearchCV\n",
    "\n",
    "skf = StratifiedKFold(n_splits=2,shuffle=True,random_state=42)"
   ]
  },
  {
   "cell_type": "code",
   "execution_count": 15,
   "id": "c55c910d",
   "metadata": {},
   "outputs": [
    {
     "name": "stdout",
     "output_type": "stream",
     "text": [
      "Fitting 2 folds for each of 9 candidates, totalling 18 fits\n"
     ]
    },
    {
     "name": "stderr",
     "output_type": "stream",
     "text": [
      "C:\\anaconda3\\lib\\site-packages\\sklearn\\model_selection\\_split.py:676: UserWarning: The least populated class in y has only 1 members, which is less than n_splits=2.\n",
      "  warnings.warn(\n",
      "C:\\anaconda3\\lib\\site-packages\\sklearn\\model_selection\\_search.py:969: UserWarning: One or more of the test scores are non-finite: [0.1 0.1 0.1 0.  0.  nan nan nan nan]\n",
      "  warnings.warn(\n"
     ]
    },
    {
     "data": {
      "text/plain": [
       "({'n_neighbors': 1}, 0.1)"
      ]
     },
     "execution_count": 15,
     "metadata": {},
     "output_type": "execute_result"
    }
   ],
   "source": [
    "from sklearn.neighbors import KNeighborsClassifier\n",
    "\n",
    "knn_params = {'n_neighbors':range(1,10)}\n",
    "knn = KNeighborsClassifier(n_jobs=-1)\n",
    "\n",
    "knn_grid= GridSearchCV(knn,knn_params,cv=skf,n_jobs =-1,verbose=True)\n",
    "knn_grid.fit(X_train_last,y_train)\n",
    "knn_grid.best_params_, knn_grid.best_score_"
   ]
  },
  {
   "cell_type": "code",
   "execution_count": 16,
   "id": "b7578e0d",
   "metadata": {},
   "outputs": [
    {
     "name": "stdout",
     "output_type": "stream",
     "text": [
      "Fitting 2 folds for each of 48 candidates, totalling 96 fits\n"
     ]
    },
    {
     "name": "stderr",
     "output_type": "stream",
     "text": [
      "C:\\anaconda3\\lib\\site-packages\\sklearn\\model_selection\\_split.py:676: UserWarning: The least populated class in y has only 1 members, which is less than n_splits=2.\n",
      "  warnings.warn(\n",
      "C:\\anaconda3\\lib\\site-packages\\sklearn\\model_selection\\_validation.py:372: FitFailedWarning: \n",
      "96 fits failed out of a total of 96.\n",
      "The score on these train-test partitions for these parameters will be set to nan.\n",
      "If these failures are not expected, you can try to debug them by setting error_score='raise'.\n",
      "\n",
      "Below are more details about the failures:\n",
      "--------------------------------------------------------------------------------\n",
      "96 fits failed with the following error:\n",
      "Traceback (most recent call last):\n",
      "  File \"C:\\anaconda3\\lib\\site-packages\\sklearn\\model_selection\\_validation.py\", line 680, in _fit_and_score\n",
      "    estimator.fit(X_train, y_train, **fit_params)\n",
      "  File \"C:\\anaconda3\\lib\\site-packages\\sklearn\\ensemble\\_forest.py\", line 486, in fit\n",
      "    self._set_oob_score_and_attributes(X, y)\n",
      "  File \"C:\\anaconda3\\lib\\site-packages\\sklearn\\ensemble\\_forest.py\", line 725, in _set_oob_score_and_attributes\n",
      "    self.oob_decision_function_ = super()._compute_oob_predictions(X, y)\n",
      "  File \"C:\\anaconda3\\lib\\site-packages\\sklearn\\ensemble\\_forest.py\", line 554, in _compute_oob_predictions\n",
      "    y_pred = self._get_oob_predictions(estimator, X[unsampled_indices, :])\n",
      "  File \"C:\\anaconda3\\lib\\site-packages\\sklearn\\ensemble\\_forest.py\", line 703, in _get_oob_predictions\n",
      "    y_pred = tree.predict_proba(X, check_input=False)\n",
      "  File \"C:\\anaconda3\\lib\\site-packages\\sklearn\\tree\\_classes.py\", line 972, in predict_proba\n",
      "    proba = self.tree_.predict(X)\n",
      "  File \"sklearn\\tree\\_tree.pyx\", line 753, in sklearn.tree._tree.Tree.predict\n",
      "  File \"sklearn\\tree\\_tree.pyx\", line 755, in sklearn.tree._tree.Tree.predict\n",
      "  File \"sklearn\\tree\\_tree.pyx\", line 764, in sklearn.tree._tree.Tree.apply\n",
      "  File \"sklearn\\tree\\_tree.pyx\", line 815, in sklearn.tree._tree.Tree._apply_sparse_csr\n",
      "ValueError: X.dtype should be np.float32, got float64\n",
      "\n",
      "  warnings.warn(some_fits_failed_message, FitFailedWarning)\n",
      "C:\\anaconda3\\lib\\site-packages\\sklearn\\model_selection\\_search.py:969: UserWarning: One or more of the test scores are non-finite: [nan nan nan nan nan nan nan nan nan nan nan nan nan nan nan nan nan nan\n",
      " nan nan nan nan nan nan nan nan nan nan nan nan nan nan nan nan nan nan\n",
      " nan nan nan nan nan nan nan nan nan nan nan nan]\n",
      "  warnings.warn(\n"
     ]
    },
    {
     "data": {
      "text/plain": [
       "(RandomForestClassifier(max_depth=3, max_features=4, n_jobs=-1, oob_score=True,\n",
       "                        random_state=42),\n",
       " nan)"
      ]
     },
     "execution_count": 16,
     "metadata": {},
     "output_type": "execute_result"
    }
   ],
   "source": [
    "from sklearn.ensemble import RandomForestClassifier\n",
    "parameters = {'max_features':[4,7,8,10],'min_samples_leaf':[1,3,5,8],'max_depth':[3,5,8]}\n",
    "rfc = RandomForestClassifier(n_estimators=100,random_state=42,n_jobs=-1,oob_score=True)\n",
    "forest_grid = GridSearchCV(rfc,parameters,n_jobs=-1,cv=skf,verbose=1)\n",
    "forest_grid.fit(X_train_last,y_train)\n",
    "forest_grid.best_estimator_ , forest_grid.best_score_"
   ]
  },
  {
   "cell_type": "code",
   "execution_count": 17,
   "id": "e1da812a",
   "metadata": {},
   "outputs": [
    {
     "name": "stdout",
     "output_type": "stream",
     "text": [
      "Fitting 2 folds for each of 150 candidates, totalling 300 fits\n"
     ]
    },
    {
     "name": "stderr",
     "output_type": "stream",
     "text": [
      "C:\\anaconda3\\lib\\site-packages\\sklearn\\model_selection\\_split.py:676: UserWarning: The least populated class in y has only 1 members, which is less than n_splits=2.\n",
      "  warnings.warn(\n"
     ]
    },
    {
     "data": {
      "text/plain": [
       "(DecisionTreeClassifier(max_depth=4, max_features=6), 0.30000000000000004)"
      ]
     },
     "execution_count": 17,
     "metadata": {},
     "output_type": "execute_result"
    }
   ],
   "source": [
    "from sklearn.tree import DecisionTreeClassifier\n",
    "\n",
    "tree= DecisionTreeClassifier()\n",
    "\n",
    "tree_params = {'max_depth':range(1,11),'max_features':range(4,19)}\n",
    "tree_grid = GridSearchCV(tree,tree_params,cv=skf,n_jobs=-1,verbose=True)\n",
    "tree_grid.fit(X_train_last,y_train)\n",
    "tree_grid.best_estimator_ , tree_grid.best_score_\n"
   ]
  },
  {
   "cell_type": "code",
   "execution_count": 18,
   "id": "1f8c3f1f",
   "metadata": {},
   "outputs": [],
   "source": [
    "rec_tracks=[]\n",
    "\n",
    "for i in playlist_df['id'].values.tolist():\n",
    "  rec_tracks += sp.recommendations(seed_tracks=[i],limit = int(len(playlist_df)/2))['tracks'];\n",
    "  \n",
    "\n",
    "rec_track_ids=[]\n",
    "rec_track_names = []\n",
    "for i in rec_tracks:\n",
    "  rec_track_ids.append(i['id'])\n",
    "  rec_track_names.append(i['name'])"
   ]
  },
  {
   "cell_type": "code",
   "execution_count": 19,
   "id": "b6d37baf",
   "metadata": {},
   "outputs": [],
   "source": [
    "rec_features=[]\n",
    "\n",
    "for i in range(0,len(rec_track_ids)):\n",
    "  rec_audio_features = sp.audio_features(rec_track_ids[i])\n",
    "  for track in rec_audio_features:\n",
    "    rec_features.append(track)\n",
    "    \n",
    "    \n",
    "rec_playlist_df= pd.DataFrame(rec_features,index = rec_track_ids)"
   ]
  },
  {
   "cell_type": "code",
   "execution_count": 20,
   "id": "1c77cb0c",
   "metadata": {},
   "outputs": [],
   "source": [
    "rec_playlist_df = rec_playlist_df[[\"acousticness\", \"danceability\", \"duration_ms\", \"energy\", \"instrumentalness\",  \"key\", \"liveness\", \"loudness\", \"mode\", \"speechiness\", \"tempo\", \"valence\"]]\n"
   ]
  },
  {
   "cell_type": "code",
   "execution_count": 21,
   "id": "3a3bbb3a",
   "metadata": {},
   "outputs": [],
   "source": [
    "tree_grid.best_estimator_.fit(X_train_last,y_train)\n",
    "rec_playlist_df_scaled = StandardScaler().fit_transform(rec_playlist_df)\n",
    "X_test_pca  = pca.transform(rec_playlist_df_scaled)\n",
    "X_test_names = v.transform(rec_track_names)\n",
    "X_test_last = csr_matrix(hstack([X_test_pca,X_test_names]))\n",
    "y_pred_class = tree_grid.best_estimator_.predict(X_test_last)"
   ]
  },
  {
   "cell_type": "code",
   "execution_count": 22,
   "id": "a8a1ea32",
   "metadata": {},
   "outputs": [],
   "source": [
    "rec_playlist_df['ratings']=y_pred_class\n",
    "rec_playlist_df = rec_playlist_df.sort_values('ratings',ascending=False)\n",
    "rec_playlist_df = rec_playlist_df.reset_index()\n",
    "recs_to_add = rec_playlist_df[rec_playlist_df['ratings']>=9]['index'].values.tolist()"
   ]
  },
  {
   "cell_type": "code",
   "execution_count": 23,
   "id": "2e23567d",
   "metadata": {},
   "outputs": [],
   "source": [
    "username = 'jwxkomefm2s1eqdqmztzrrral'\n",
    "playlist_recs =sp.user_playlist_create(username,name=\"Generated Recommended Songs for Playlist - {}\".format(sourcePlaylist['name']))"
   ]
  },
  {
   "cell_type": "code",
   "execution_count": 24,
   "id": "f403a68c",
   "metadata": {},
   "outputs": [
    {
     "data": {
      "text/plain": [
       "{'collaborative': False,\n",
       " 'description': '',\n",
       " 'external_urls': {'spotify': 'https://open.spotify.com/playlist/4A1C9LgWH4dAsTwA4BQDDm'},\n",
       " 'followers': {'href': None, 'total': 0},\n",
       " 'href': 'https://api.spotify.com/v1/playlists/4A1C9LgWH4dAsTwA4BQDDm',\n",
       " 'id': '4A1C9LgWH4dAsTwA4BQDDm',\n",
       " 'images': [],\n",
       " 'name': 'Generated Recommended Songs for Playlist - Normal Day',\n",
       " 'owner': {'display_name': 'Harsh',\n",
       "  'external_urls': {'spotify': 'https://open.spotify.com/user/jwxkomefm2s1eqdqmztzrrral'},\n",
       "  'href': 'https://api.spotify.com/v1/users/jwxkomefm2s1eqdqmztzrrral',\n",
       "  'id': 'jwxkomefm2s1eqdqmztzrrral',\n",
       "  'type': 'user',\n",
       "  'uri': 'spotify:user:jwxkomefm2s1eqdqmztzrrral'},\n",
       " 'primary_color': None,\n",
       " 'public': True,\n",
       " 'snapshot_id': 'MSw4NWQ1YWZjMjk4ZGY1Mjk5MjYxMjNhMDkyNWVhNzI0NmQ3ZGZlMWNm',\n",
       " 'tracks': {'href': 'https://api.spotify.com/v1/playlists/4A1C9LgWH4dAsTwA4BQDDm/tracks',\n",
       "  'items': [],\n",
       "  'limit': 100,\n",
       "  'next': None,\n",
       "  'offset': 0,\n",
       "  'previous': None,\n",
       "  'total': 0},\n",
       " 'type': 'playlist',\n",
       " 'uri': 'spotify:playlist:4A1C9LgWH4dAsTwA4BQDDm'}"
      ]
     },
     "execution_count": 24,
     "metadata": {},
     "output_type": "execute_result"
    }
   ],
   "source": [
    "playlist_recs"
   ]
  },
  {
   "cell_type": "code",
   "execution_count": 25,
   "id": "49cdd2e4",
   "metadata": {},
   "outputs": [
    {
     "data": {
      "text/plain": [
       "48"
      ]
     },
     "execution_count": 25,
     "metadata": {},
     "output_type": "execute_result"
    }
   ],
   "source": [
    "len(recs_to_add)"
   ]
  },
  {
   "cell_type": "code",
   "execution_count": 26,
   "id": "6fbe9828",
   "metadata": {},
   "outputs": [],
   "source": [
    "sp.user_playlist_add_tracks(username,playlist_recs['id'],recs_to_add);\n"
   ]
  },
  {
   "cell_type": "code",
   "execution_count": null,
   "id": "e10d9011",
   "metadata": {},
   "outputs": [],
   "source": []
  }
 ],
 "metadata": {
  "kernelspec": {
   "display_name": "Python 3 (ipykernel)",
   "language": "python",
   "name": "python3"
  },
  "language_info": {
   "codemirror_mode": {
    "name": "ipython",
    "version": 3
   },
   "file_extension": ".py",
   "mimetype": "text/x-python",
   "name": "python",
   "nbconvert_exporter": "python",
   "pygments_lexer": "ipython3",
   "version": "3.9.12"
  }
 },
 "nbformat": 4,
 "nbformat_minor": 5
}
